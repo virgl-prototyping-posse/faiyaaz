{
 "cells": [
  {
   "cell_type": "code",
   "execution_count": 6,
   "id": "e3daa32d",
   "metadata": {},
   "outputs": [],
   "source": [
    "resume_text = \"\"\" Name: John Smith\n",
    "Title: Software Engineer\n",
    "Contact Information:\n",
    "Email: johnsmith@email.com\n",
    "Phone: (123) 456-7890\n",
    "\n",
    "Summary:\n",
    "A highly skilled software engineer with 5+ years of experience in full-stack web development. Proficient in multiple programming languages and frameworks. Strong problem-solving and communication skills. Passionate about creating robust and scalable software solutions.\n",
    "\n",
    "Skills:\n",
    "Programming Languages: Python, Java, C++\n",
    "Web Technologies: HTML, CSS, JavaScript, React, Node.js\n",
    "Databases: MySQL, MongoDB\n",
    "Version Control: Git\n",
    "Agile Development\n",
    "Test-Driven Development (TDD)\n",
    "Problem Solving\n",
    "Communication Skills\n",
    "\n",
    "Experience:\n",
    "Company: XYZ Tech\n",
    "Position: Software Engineer\n",
    "Duration: 2018 - Present\n",
    "Responsibilities:\n",
    "Developed and maintained web applications using Python, Django, HTML, CSS, and JavaScript.\n",
    "Collaborated with cross-functional teams to design and implement new features.\n",
    "Implemented test-driven development practices, resulting in a 30% decrease in software bugs.\n",
    "Optimized application performance and scalability through code refactoring and database tuning.\n",
    "Conducted code reviews to ensure adherence to coding standards and best practices.\n",
    "\n",
    "Company: ABC Solutions\n",
    "Position: Junior Software Engineer\n",
    "Duration: 2016 - 2018\n",
    "Responsibilities:\n",
    "Assisted senior engineers in developing and maintaining enterprise-level software solutions.\n",
    "Participated in requirement analysis and system design discussions.\n",
    "Contributed to the development of front-end interfaces using React and backend services using Node.js.\n",
    "Collaborated with QA team to conduct thorough testing and bug fixing.\n",
    "\n",
    "Education:\n",
    "Bachelor of Science in Computer Science\n",
    "University of XYZ, Year of Graduation: 2016\n",
    "\n",
    "Certifications:\n",
    "Certified Scrum Master (CSM)\n",
    "Oracle Certified Java Programmer (OCJP)\n",
    "\n",
    "Projects:\n",
    "E-commerce Website:\n",
    "Developed a fully functional e-commerce website using Django, HTML, CSS, and JavaScript.\n",
    "Implemented secure payment gateway integration and order management system.\n",
    "Optimized website performance and improved user experience through front-end optimization techniques.\n",
    "\n",
    "Task Management Application:\n",
    "Led a team of 4 developers in building a task management application using React and Node.js.\n",
    "Implemented real-time updates and collaboration features using web sockets.\n",
    "Integrated with external APIs for task tracking and reporting.\n",
    "\n",
    "References:\n",
    "Available upon request\n",
    "\"\"\""
   ]
  },
  {
   "cell_type": "code",
   "execution_count": 7,
   "id": "763d1232",
   "metadata": {},
   "outputs": [],
   "source": [
    "job_text = \"\"\"Job Title: Software Engineer\n",
    "\n",
    "Company: ABC Tech Solutions\n",
    "\n",
    "Location: San Francisco, CA\n",
    "\n",
    "Job Description:\n",
    "ABC Tech Solutions is seeking a talented software engineer to join our development team. As a software engineer, you will be responsible for designing, developing, and maintaining high-quality software solutions for our clients. You will work closely with cross-functional teams to understand requirements, architect solutions, and deliver robust and scalable applications.\n",
    "\n",
    "Responsibilities:\n",
    "Design, develop, and test software applications using a variety of programming languages and frameworks.\n",
    "Collaborate with product managers, designers, and other stakeholders to gather requirements and translate them into technical specifications.\n",
    "Write clean, efficient, and maintainable code following best practices and coding standards.\n",
    "Conduct code reviews to ensure code quality, readability, and adherence to software development guidelines.\n",
    "Troubleshoot and debug software issues, identify root causes, and implement effective solutions.\n",
    "Participate in agile development methodologies, including sprint planning, stand-up meetings, and retrospectives.\n",
    "Stay up-to-date with industry trends, technologies, and best practices to continuously improve software development processes.\n",
    "\n",
    "Requirements:\n",
    "Bachelor's degree in Computer Science, Software Engineering, or related field (or equivalent work experience).\n",
    "3+ years of professional experience in software development.\n",
    "Strong proficiency in one or more programming languages such as Java, Python, C++, or JavaScript.\n",
    "Experience with web development technologies including HTML, CSS, and JavaScript frameworks (e.g., React, Angular).\n",
    "Familiarity with relational databases and SQL queries.\n",
    "Knowledge of software development methodologies, version control systems (e.g., Git), and issue tracking tools (e.g., JIRA).\n",
    "Excellent problem-solving skills and ability to work independently as well as in a team environment.\n",
    "Strong communication skills and ability to effectively collaborate with cross-functional teams.\n",
    "\n",
    "Preferred Qualifications:\n",
    "Master's degree in Computer Science, Software Engineering, or related field.\n",
    "Experience with cloud platforms such as AWS, Azure, or GCP.\n",
    "Knowledge of mobile app development (iOS or Android).\n",
    "Familiarity with agile development practices, continuous integration, and deployment pipelines.\n",
    "Contributions to open-source projects or personal programming projects.\n",
    "\n",
    "To apply, please submit your resume, cover letter, and portfolio showcasing your previous projects to careers@abctechsolutions.com. Only shortlisted candidates will be contacted for interviews.\n",
    "\n",
    "About ABC Tech Solutions:\n",
    "ABC Tech Solutions is a leading technology company specializing in software development and IT solutions. We provide cutting-edge software solutions to a wide range of clients in various industries. Join our dynamic team and work on exciting projects that push the boundaries of technology innovation.\n",
    "\"\"\""
   ]
  },
  {
   "cell_type": "code",
   "execution_count": 8,
   "id": "4aa4ecc3",
   "metadata": {},
   "outputs": [],
   "source": [
    "text = [resume_text, job_text]"
   ]
  },
  {
   "cell_type": "code",
   "execution_count": 9,
   "id": "a0c27e14",
   "metadata": {},
   "outputs": [],
   "source": [
    "from sklearn.feature_extraction.text import CountVectorizer\n",
    "cv = CountVectorizer()\n",
    "count_matrix = cv.fit_transform(text)"
   ]
  },
  {
   "cell_type": "code",
   "execution_count": 10,
   "id": "d05d9810",
   "metadata": {},
   "outputs": [
    {
     "name": "stdout",
     "output_type": "stream",
     "text": [
      "Your resume match is about 71.69901171309726%\n"
     ]
    }
   ],
   "source": [
    "from sklearn.metrics.pairwise import cosine_similarity\n",
    "\n",
    "match_percentage = cosine_similarity(count_matrix)[0][1] *100\n",
    "\n",
    "print('Your resume match is about {match_percentage}%'.format(match_percentage=match_percentage))"
   ]
  },
  {
   "cell_type": "code",
   "execution_count": null,
   "id": "9cef41d4",
   "metadata": {},
   "outputs": [],
   "source": []
  }
 ],
 "metadata": {
  "kernelspec": {
   "display_name": "Python 3 (ipykernel)",
   "language": "python",
   "name": "python3"
  },
  "language_info": {
   "codemirror_mode": {
    "name": "ipython",
    "version": 3
   },
   "file_extension": ".py",
   "mimetype": "text/x-python",
   "name": "python",
   "nbconvert_exporter": "python",
   "pygments_lexer": "ipython3",
   "version": "3.10.6"
  }
 },
 "nbformat": 4,
 "nbformat_minor": 5
}
